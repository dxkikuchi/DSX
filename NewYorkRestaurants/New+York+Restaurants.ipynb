{
 "cells": [
  {
   "cell_type": "markdown",
   "metadata": {
    "collapsed": true
   },
   "source": [
    "<img src='https://raw.githubusercontent.com/dxkikuchi/SparkSnips/master/dsxlogo.jpg' width=\"30%\" height=\"30%\"></img>"
   ]
  },
  {
   "cell_type": "markdown",
   "metadata": {},
   "source": [
    "## New York State Restaurant Inspections Notebook\n",
    "Here is the location for data on restaurant inspections for most the state of New York.  For additional details, please see <a href=\"https://health.data.ny.gov/Health/Food-Service-Establishment-Last-Inspection/cnih-y5dw\" target=\"_blank\">https://health.data.ny.gov/Health/Food-Service-Establishment-Last-Inspection/cnih-y5dw</a>"
   ]
  },
  {
   "cell_type": "code",
   "execution_count": null,
   "metadata": {
    "collapsed": true
   },
   "outputs": [],
   "source": [
    "nyr = 'https://health.data.ny.gov/api/views/cnih-y5dw/rows.csv?accessType=DOWNLOAD'"
   ]
  },
  {
   "cell_type": "markdown",
   "metadata": {},
   "source": [
    "The csv (comma separated values) data will be read into a Pandas dataframe (nyr) and the first 5 records are displayed using the 'head()' method.<br>\n",
    "Please attempt to write this code in the following cell to do this without looking at the solution provided 2 cells from here."
   ]
  },
  {
   "cell_type": "code",
   "execution_count": null,
   "metadata": {
    "collapsed": false
   },
   "outputs": [],
   "source": [
    "import pandas as pd\n",
    "# Please add your code here"
   ]
  },
  {
   "cell_type": "markdown",
   "metadata": {},
   "source": [
    "Solution: Please copy and paste the following code into the previous cell where specified.<br>\n",
    "nyr = pd.read_csv(nyr)<br>\n",
    "nyr.head()"
   ]
  },
  {
   "cell_type": "markdown",
   "metadata": {},
   "source": [
    "The latitude and longitude are provided in the final column (Location1).  Functions are defined to extract the latitude and longitude independently."
   ]
  },
  {
   "cell_type": "code",
   "execution_count": null,
   "metadata": {
    "collapsed": true
   },
   "outputs": [],
   "source": [
    "def get_lon(loc):\n",
    "    if len(loc.split(\",\")) > 1:\n",
    "        lon = loc.split(\",\")[1].replace(\")\", \"\").strip()\n",
    "    else:\n",
    "        lon = \"\"\n",
    "    return lon\n",
    "\n",
    "def get_lat(loc):\n",
    "    if len(loc.split(\",\")) > 1:\n",
    "        lat = loc.split(\",\")[0].replace(\"(\", \"\").strip()\n",
    "    else:\n",
    "        lat = \"\"\n",
    "    return lat"
   ]
  },
  {
   "cell_type": "markdown",
   "metadata": {},
   "source": [
    "The data is transformed into a Spark dataframe (nyrDF) and a table is registered."
   ]
  },
  {
   "cell_type": "code",
   "execution_count": null,
   "metadata": {
    "collapsed": false
   },
   "outputs": [],
   "source": [
    "nyrDF = sqlContext.createDataFrame(nyr)\n",
    "nyrDF.registerTempTable(\"nyrDF\")"
   ]
  },
  {
   "cell_type": "markdown",
   "metadata": {},
   "source": [
    "A Spark dataframe (nyvDF) is created which contains a subset of the relevant columns.<br>\n",
    "Please attempt to write this code in the following cell to register the table without looking at the solution provided 2 cells from here."
   ]
  },
  {
   "cell_type": "code",
   "execution_count": null,
   "metadata": {
    "collapsed": false
   },
   "outputs": [],
   "source": [
    "from pyspark.sql import Row\n",
    "nyvDF = nyrDF.map(lambda x: Row(FACILITY=x.FACILITY, \\\n",
    "                                ADDRESS=x.ADDRESS, \\\n",
    "                                lat=get_lat(x.Location1), \\\n",
    "                                lon=get_lon(x.Location1), \\\n",
    "                                VIOLATIONS=x.VIOLATIONS, \\\n",
    "                                TOTAL_CRIT_VIOLATIONS=x[\"TOTAL # CRITICAL VIOLATIONS\"])).toDF()\n",
    "# Please add your code here"
   ]
  },
  {
   "cell_type": "markdown",
   "metadata": {},
   "source": [
    "Solution: Please copy and paste the following code into the previous cell where specified.<br>\n",
    "nyvDF.registerTempTable(\"nyvDF\")"
   ]
  },
  {
   "cell_type": "markdown",
   "metadata": {},
   "source": [
    "A SQL query is defined that provides the restaurant name (facility), latitude, longitude and violations.  They are ordered by number of violations in descending order and the top 10 records are requested."
   ]
  },
  {
   "cell_type": "code",
   "execution_count": null,
   "metadata": {
    "collapsed": false,
    "scrolled": true
   },
   "outputs": [],
   "source": [
    "query = \"\"\"\n",
    "select \n",
    "    FACILITY, \n",
    "    cast(lat as float) as lat,\n",
    "    cast(lon as float) as lon,\n",
    "    cast(TOTAL_CRIT_VIOLATIONS as int) as Violations\n",
    "from nyvDF \n",
    "order by cast(TOTAL_CRIT_VIOLATIONS as decimal(10,2)) desc\n",
    "limit 1000\n",
    "\"\"\"\n",
    "nyv1000 = sqlContext.sql(query)\n",
    "nyv1000.show(10)"
   ]
  },
  {
   "cell_type": "markdown",
   "metadata": {},
   "source": [
    "The latitude and longitude are mapped to a New York state map using Brunel visualization.  The color represents the number of violations as shown in the key.  "
   ]
  },
  {
   "cell_type": "code",
   "execution_count": null,
   "metadata": {
    "collapsed": false
   },
   "outputs": [],
   "source": [
    "import brunel\n",
    "nyv1000pan = nyv1000.toPandas()\n",
    "%brunel map ('NY') + data('nyv1000pan') x(lon) y(lat) color(Violations) tooltip(FACILITY)"
   ]
  },
  {
   "cell_type": "markdown",
   "metadata": {},
   "source": [
    "Pixiedust also provides charting and visualization.  It is an open source Python library that works as an add-on to Jupyter notebooks to improve the user experience of working with data.  For example, if you hover over the lonely yellow dot in the middle of New York State, you can see that it is for 'CAMP KINGSLEY - CC'.  By starting to type the value 'camp' in the 'Search table' text field below, the record will be displayed.  Numerous visualization are available with map support in the future.  In addition, the data can be downloaded as a file, or stashed to Cloudant or Object Storage."
   ]
  },
  {
   "cell_type": "code",
   "execution_count": null,
   "metadata": {
    "collapsed": false
   },
   "outputs": [],
   "source": [
    "from pixiedust.display import *\n",
    "display(nyv1000)"
   ]
  }
 ],
 "metadata": {
  "kernelspec": {
   "display_name": "Python 2",
   "language": "python",
   "name": "python2"
  },
  "language_info": {
   "codemirror_mode": {
    "name": "ipython",
    "version": 2
   },
   "file_extension": ".py",
   "mimetype": "text/x-python",
   "name": "python",
   "nbconvert_exporter": "python",
   "pygments_lexer": "ipython2",
   "version": "2.7.11"
  }
 },
 "nbformat": 4,
 "nbformat_minor": 0
}